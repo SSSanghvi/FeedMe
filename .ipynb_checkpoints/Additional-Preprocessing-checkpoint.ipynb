{
 "cells": [
  {
   "cell_type": "markdown",
   "metadata": {},
   "source": [
    "# Additional Pre-Processing\n",
    "\n",
    "This does some additional pre-processing on the `menu_section` and `dish_name` columns. It, then, creates a new column called `full_description` that is a string concatenation of `menu_section`, `dish_name`, and `cleaned_descriptions`. \n",
    "\n",
    "Because the original pre-processing ran on the original file and took a long time to finish, this file is simply an extension of it that runs on the data that resulted from the initial pre-processing, which is much smaller."
   ]
  },
  {
   "cell_type": "code",
   "execution_count": null,
   "metadata": {},
   "outputs": [],
   "source": [
    "import pandas as pd\n",
    "import nltk\n",
    "nltk.download('stopwords')\n",
    "nltk.download('punkt')"
   ]
  },
  {
   "cell_type": "code",
   "execution_count": null,
   "metadata": {},
   "outputs": [],
   "source": [
    "df = pd.read_csv('data/processed_dishes_v2.csv')\n",
    "df.head(5)"
   ]
  },
  {
   "cell_type": "code",
   "execution_count": null,
   "metadata": {},
   "outputs": [],
   "source": [
    "stop_words = set(nltk.corpus.stopwords.words('english'))\n",
    "\n",
    "def tokenize_and_process(desc):\n",
    "    tokens = nltk.word_tokenize(desc)\n",
    "    \n",
    "    # Removing stop words and punctuation from menu descriptions, and stem what's left.\n",
    "    tokens = [t for t in tokens if t not in stop_words and t.isalpha()]\n",
    "    \n",
    "    return \" \".join(tokens)"
   ]
  },
  {
   "cell_type": "code",
   "execution_count": null,
   "metadata": {},
   "outputs": [],
   "source": [
    "df_copy = df.copy()\n",
    "df_copy['cleaned_menu_section'] = df_copy['menu_section'].apply(tokenize_and_process).str.lower()\n",
    "df_copy['cleaned_dish_name'] = df_copy['dish_name'].apply(tokenize_and_process).str.lower()\n",
    "df_copy.head(5)"
   ]
  },
  {
   "cell_type": "code",
   "execution_count": null,
   "metadata": {},
   "outputs": [],
   "source": [
    "full_description = df_copy['cleaned_menu_section'] + ' ' + df_copy['cleaned_dish_name'] + ' ' + df_copy['cleaned_descriptions']\n",
    "df.insert(5, \"full_description\", full_description)\n",
    "df.head(5)"
   ]
  },
  {
   "cell_type": "code",
   "execution_count": null,
   "metadata": {},
   "outputs": [],
   "source": [
    "df.to_csv('data/processed_dishes_v3.csv', index=False)"
   ]
  }
 ],
 "metadata": {
  "kernelspec": {
   "display_name": "Python 3",
   "language": "python",
   "name": "python3"
  },
  "language_info": {
   "codemirror_mode": {
    "name": "ipython",
    "version": 3
   },
   "file_extension": ".py",
   "mimetype": "text/x-python",
   "name": "python",
   "nbconvert_exporter": "python",
   "pygments_lexer": "ipython3",
   "version": "3.7.4"
  }
 },
 "nbformat": 4,
 "nbformat_minor": 2
}
